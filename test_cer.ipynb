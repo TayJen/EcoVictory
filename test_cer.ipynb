{
 "cells": [
  {
   "cell_type": "code",
   "execution_count": 61,
   "id": "7cf5d176-2239-4f40-bf65-6474313d95af",
   "metadata": {},
   "outputs": [],
   "source": [
    "import os\n",
    "import torch\n",
    "import pandas as pd\n",
    "import easyocr\n",
    "from PIL import Image\n",
    "import numpy as np\n",
    "from torchmetrics.functional import char_error_rate, word_error_rate\n",
    "import re"
   ]
  },
  {
   "cell_type": "code",
   "execution_count": 4,
   "id": "3c523383",
   "metadata": {},
   "outputs": [],
   "source": [
    "def process_image(reader, img_path: str):\n",
    "    image = Image.open(img_path)\n",
    "    image = np.array(image)\n",
    "    bounds = reader.readtext(image, paragraph=True)\n",
    "    answer = postprocess(bounds)\n",
    "    return answer\n",
    "\n",
    "def postprocess(bounds):\n",
    "    main_ingredient_list = \"\"\n",
    "    for bound in bounds:\n",
    "        main_ingredient_list += bound[1].lower() + ' '\n",
    "\n",
    "    # Remove unnecessary punctuation and other symbols\n",
    "    unnecessary_symbols = \";:.,!?%#\\\"'/\\\\\"\n",
    "    for sym in unnecessary_symbols:\n",
    "        main_ingredient_list = main_ingredient_list.replace(sym, '')\n",
    "\n",
    "    # Remove extra spaces\n",
    "    main_ingredient_list = \" \".join(main_ingredient_list.split(' '))\n",
    "\n",
    "    return main_ingredient_list"
   ]
  },
  {
   "cell_type": "code",
   "execution_count": 5,
   "id": "49216f24-a3a8-4bff-8662-193fa6e6e9a4",
   "metadata": {},
   "outputs": [],
   "source": [
    "reader_old = easyocr.Reader(['ru'])\n",
    "reader_new = easyocr.Reader(['ru'],\n",
    "                        model_storage_directory='custom_EasyOCR/model',\n",
    "                        user_network_directory='custom_EasyOCR/user_network',\n",
    "                        recog_network='custom_example') "
   ]
  },
  {
   "cell_type": "code",
   "execution_count": 6,
   "id": "4a4e6825",
   "metadata": {},
   "outputs": [],
   "source": [
    "df = pd.read_csv('dataset/test/labels.csv')"
   ]
  },
  {
   "cell_type": "code",
   "execution_count": 7,
   "id": "7dfd62ab",
   "metadata": {},
   "outputs": [
    {
     "data": {
      "text/html": [
       "<div>\n",
       "<style scoped>\n",
       "    .dataframe tbody tr th:only-of-type {\n",
       "        vertical-align: middle;\n",
       "    }\n",
       "\n",
       "    .dataframe tbody tr th {\n",
       "        vertical-align: top;\n",
       "    }\n",
       "\n",
       "    .dataframe thead th {\n",
       "        text-align: right;\n",
       "    }\n",
       "</style>\n",
       "<table border=\"1\" class=\"dataframe\">\n",
       "  <thead>\n",
       "    <tr style=\"text-align: right;\">\n",
       "      <th></th>\n",
       "      <th>filename</th>\n",
       "      <th>words</th>\n",
       "    </tr>\n",
       "  </thead>\n",
       "  <tbody>\n",
       "    <tr>\n",
       "      <th>0</th>\n",
       "      <td>image_115.png</td>\n",
       "      <td>лрите на бутылке . хранить в сухом; тем</td>\n",
       "    </tr>\n",
       "    <tr>\n",
       "      <th>1</th>\n",
       "      <td>image_1473.png</td>\n",
       "      <td>олее 30 мг на 100 мл напитка. не рокомендется ...</td>\n",
       "    </tr>\n",
       "    <tr>\n",
       "      <th>2</th>\n",
       "      <td>image_1059.png</td>\n",
       "      <td>ул. дзержинского, 19</td>\n",
       "    </tr>\n",
       "    <tr>\n",
       "      <th>3</th>\n",
       "      <td>image_803.png</td>\n",
       "      <td>и относительной вложности возд</td>\n",
       "    </tr>\n",
       "    <tr>\n",
       "      <th>4</th>\n",
       "      <td>image_390.png</td>\n",
       "      <td>белки 8,3 г; жиры 16,5</td>\n",
       "    </tr>\n",
       "    <tr>\n",
       "      <th>...</th>\n",
       "      <td>...</td>\n",
       "      <td>...</td>\n",
       "    </tr>\n",
       "    <tr>\n",
       "      <th>220</th>\n",
       "      <td>image_781.png</td>\n",
       "      <td>сливочны \\r\\n991,image_782.png,не более 75%. п...</td>\n",
       "    </tr>\n",
       "    <tr>\n",
       "      <th>221</th>\n",
       "      <td>image_347.png</td>\n",
       "      <td>мл</td>\n",
       "    </tr>\n",
       "    <tr>\n",
       "      <th>222</th>\n",
       "      <td>image_257.png</td>\n",
       "      <td>бензоат</td>\n",
       "    </tr>\n",
       "    <tr>\n",
       "      <th>223</th>\n",
       "      <td>image_915.png</td>\n",
       "      <td>нный категории 6 охлажденный упа</td>\n",
       "    </tr>\n",
       "    <tr>\n",
       "      <th>224</th>\n",
       "      <td>image_461.png</td>\n",
       "      <td>одинцовский р-н ; п часцы; стр 3</td>\n",
       "    </tr>\n",
       "  </tbody>\n",
       "</table>\n",
       "<p>225 rows × 2 columns</p>\n",
       "</div>"
      ],
      "text/plain": [
       "           filename                                              words\n",
       "0     image_115.png           лрите на бутылке . хранить в сухом; тем \n",
       "1    image_1473.png  олее 30 мг на 100 мл напитка. не рокомендется ...\n",
       "2    image_1059.png                              ул. дзержинского, 19 \n",
       "3     image_803.png                    и относительной вложности возд \n",
       "4     image_390.png                            белки 8,3 г; жиры 16,5 \n",
       "..              ...                                                ...\n",
       "220   image_781.png  сливочны \\r\\n991,image_782.png,не более 75%. п...\n",
       "221   image_347.png                                                мл \n",
       "222   image_257.png                                           бензоат \n",
       "223   image_915.png                  нный категории 6 охлажденный упа \n",
       "224   image_461.png                  одинцовский р-н ; п часцы; стр 3 \n",
       "\n",
       "[225 rows x 2 columns]"
      ]
     },
     "execution_count": 7,
     "metadata": {},
     "output_type": "execute_result"
    }
   ],
   "source": [
    "df"
   ]
  },
  {
   "cell_type": "code",
   "execution_count": 8,
   "id": "6b172ec3",
   "metadata": {},
   "outputs": [],
   "source": [
    "list_images = df['filename'].to_list()"
   ]
  },
  {
   "cell_type": "code",
   "execution_count": 45,
   "id": "0fdcb4d3",
   "metadata": {},
   "outputs": [],
   "source": [
    "list_words = df['words'].to_list()"
   ]
  },
  {
   "cell_type": "code",
   "execution_count": 62,
   "id": "7f0bc990",
   "metadata": {},
   "outputs": [],
   "source": [
    "preds_old = []\n",
    "preds_new = []\n",
    "target = []"
   ]
  },
  {
   "cell_type": "code",
   "execution_count": 63,
   "id": "5b28f76d",
   "metadata": {},
   "outputs": [],
   "source": [
    "for i in range(len(list_images)):\n",
    "    img_path='dataset/test/'+list_images[i]\n",
    "    text_old = process_image(reader_old, img_path)\n",
    "    text_new = process_image(reader_new, img_path)  \n",
    "    text_gr_truth = re.sub(r\"[!@#&*()[]{}/?<>;:.,#\\\"/\\\\]\", \"\", list_words[i])\n",
    "    preds_old.append(text_old)\n",
    "    preds_new.append(text_new)\n",
    "    target.append(text_gr_truth)"
   ]
  },
  {
   "cell_type": "code",
   "execution_count": 69,
   "id": "f921ee82",
   "metadata": {},
   "outputs": [
    {
     "name": "stdout",
     "output_type": "stream",
     "text": [
      "tensor(0.1954) tensor(0.1633)\n"
     ]
    }
   ],
   "source": [
    "char_error_rate_old = char_error_rate(preds=preds_old, target=target)\n",
    "char_error_rate_new = char_error_rate(preds=preds_new, target=target)\n",
    "print(char_error_rate_old, char_error_rate_new)"
   ]
  }
 ],
 "metadata": {
  "kernelspec": {
   "display_name": "pytorch-gpu-python-3-10",
   "language": "python",
   "name": "python3"
  },
  "language_info": {
   "codemirror_mode": {
    "name": "ipython",
    "version": 3
   },
   "file_extension": ".py",
   "mimetype": "text/x-python",
   "name": "python",
   "nbconvert_exporter": "python",
   "pygments_lexer": "ipython3",
   "version": "3.10.14"
  }
 },
 "nbformat": 4,
 "nbformat_minor": 5
}
